{
  "nbformat": 4,
  "nbformat_minor": 0,
  "metadata": {
    "colab": {
      "provenance": [],
      "authorship_tag": "ABX9TyNdh0eMTSBXXW+Y7/ffT7ff",
      "include_colab_link": true
    },
    "kernelspec": {
      "name": "python3",
      "display_name": "Python 3"
    },
    "language_info": {
      "name": "python"
    }
  },
  "cells": [
    {
      "cell_type": "markdown",
      "metadata": {
        "id": "view-in-github",
        "colab_type": "text"
      },
      "source": [
        "<a href=\"https://colab.research.google.com/github/Sankarrao9398/07-8-25-Html-Table-creation/blob/main/oops_day_3.ipynb\" target=\"_parent\"><img src=\"https://colab.research.google.com/assets/colab-badge.svg\" alt=\"Open In Colab\"/></a>"
      ]
    },
    {
      "cell_type": "code",
      "source": [
        "import requests\n",
        "class User:\n",
        "    def __init__(self, id, name, email):\n",
        "        self.id = id\n",
        "        self.name = name\n",
        "        self.email = email\n",
        "\n",
        "    def showUser(self):\n",
        "        print(f\"User {self.id} → {self.name} ({self.email})\")\n",
        "\n",
        "    def getEmailDomain(self):\n",
        "        return self.email.split(\"@\")[1]\n",
        "\n",
        "url = \"https://jsonplaceholder.typicode.com/users\""
      ],
      "metadata": {
        "id": "XSJ-MdDb9A1z"
      },
      "execution_count": null,
      "outputs": []
    },
    {
      "cell_type": "code",
      "source": [
        "def showUser(self):\n",
        "        print(f\"User {self.id} → {self.name} ({self.email})\")"
      ],
      "metadata": {
        "id": "BdjIgWBu9eZS"
      },
      "execution_count": null,
      "outputs": []
    },
    {
      "cell_type": "code",
      "source": [
        "def getEmailDomain(self):\n",
        "        return self.email.split(\"@\")[1]"
      ],
      "metadata": {
        "id": "aDeqKw7P9f0H"
      },
      "execution_count": null,
      "outputs": []
    },
    {
      "cell_type": "code",
      "source": [
        "response = requests.get(url)\n",
        "users_data = response.json()\n",
        "users = []\n",
        "for u in users_data:\n",
        "    user_obj = User(u[\"id\"], u[\"name\"], u[\"email\"])\n",
        "    users.append(user_obj)\n",
        "for user in users[:5]:\n",
        "    user.showUser()\n",
        "    print(\"Email Domain:\", user.getEmailDomain())\n"
      ],
      "metadata": {
        "colab": {
          "base_uri": "https://localhost:8080/"
        },
        "id": "ltGyulGh-KdT",
        "outputId": "a8e314f6-8fbe-46a7-d087-af299db242be"
      },
      "execution_count": null,
      "outputs": [
        {
          "output_type": "stream",
          "name": "stdout",
          "text": [
            "User 1 → Leanne Graham (Sincere@april.biz)\n",
            "Email Domain: april.biz\n",
            "User 2 → Ervin Howell (Shanna@melissa.tv)\n",
            "Email Domain: melissa.tv\n",
            "User 3 → Clementine Bauch (Nathan@yesenia.net)\n",
            "Email Domain: yesenia.net\n",
            "User 4 → Patricia Lebsack (Julianne.OConner@kory.org)\n",
            "Email Domain: kory.org\n",
            "User 5 → Chelsey Dietrich (Lucio_Hettinger@annie.ca)\n",
            "Email Domain: annie.ca\n"
          ]
        }
      ]
    },
    {
      "cell_type": "code",
      "source": [
        "import requests\n",
        "class Post:\n",
        "    def __init__(self, userId, id, title, body):\n",
        "        self.userId = userId\n",
        "        self.id = id\n",
        "        self.title = title\n",
        "        self.body = body\n",
        "    def showSummary(self):\n",
        "        print(f\"Post {self.id} → {self.title[:20]}...\")\n",
        "    def getWordCount(self):\n",
        "        return len(self.body.split())\n",
        "url = \"https://jsonplaceholder.typicode.com/posts\"\n",
        "response = requests.get(url)\n",
        "posts_data = response.json()\n",
        "posts = []\n",
        "for p in posts_data:\n",
        "    post_obj = Post(p[\"userId\"], p[\"id\"], p[\"title\"], p[\"body\"])\n",
        "    posts.append(post_obj)\n",
        "for post in posts[:3]:\n",
        "    post.showSummary()\n",
        "    print(\"Word Count:\", post.getWordCount())\n"
      ],
      "metadata": {
        "colab": {
          "base_uri": "https://localhost:8080/"
        },
        "id": "ZIxOhEmE_G-o",
        "outputId": "53d8b796-bcc1-4323-d9bc-1045511db947"
      },
      "execution_count": null,
      "outputs": [
        {
          "output_type": "stream",
          "name": "stdout",
          "text": [
            "Post 1 → sunt aut facere repe...\n",
            "Word Count: 23\n",
            "Post 2 → qui est esse...\n",
            "Word Count: 31\n",
            "Post 3 → ea molestias quasi e...\n",
            "Word Count: 26\n"
          ]
        }
      ]
    },
    {
      "cell_type": "code",
      "source": [
        "import requests\n",
        "\n",
        "class Product:\n",
        "    def __init__(self, id, title, price, stock):\n",
        "        self.id = id\n",
        "        self.title = title\n",
        "        self.price = price\n",
        "        self.stock = stock\n",
        "    def showDetails(self):\n",
        "        print(f\"{self.title} (₹{self.price}) Stock: {self.stock}\")\n",
        "    def buyProduct(self, qty):\n",
        "        if qty <= self.stock:\n",
        "            self.stock -= qty\n",
        "            print(f\"Bought {qty} unit(s) of {self.title}. Remaining stock: {self.stock}\")\n",
        "        else:\n",
        "            print(f\"Out of stock! Only {self.stock} unit(s) left for {self.title}.\")\n",
        "url = \"https://dummyjson.com/products\"\n",
        "response = requests.get(url)\n",
        "if response.status_code == 200:\n",
        "    products_data = response.json()[\"products\"]\n",
        "    print(f\"Fetched {len(products_data)} products\\n\")\n",
        "    products = []\n",
        "    for p in products_data:\n",
        "        product_obj = Product(p[\"id\"], p[\"title\"], p[\"price\"], p[\"stock\"])\n",
        "        products.append(product_obj)\n",
        "    print(\"Available Products:\")\n",
        "    for product in products[:3]:\n",
        "        product.showDetails()\n",
        "    print(\"\\nSimulating Shopping Cart:\\n\")\n",
        "    products[0].buyProduct(2)\n",
        "    products[1].buyProduct(1)\n",
        "    products[2].buyProduct(products[2].stock + 5)\n",
        "else:\n",
        "    print(\"Failed to fetch data from API\", response.status_code)\n",
        "\n"
      ],
      "metadata": {
        "colab": {
          "base_uri": "https://localhost:8080/"
        },
        "id": "T-TUZtDZBRWi",
        "outputId": "bba2a91e-044f-447e-98ac-59dc96eb33fa"
      },
      "execution_count": 2,
      "outputs": [
        {
          "output_type": "stream",
          "name": "stdout",
          "text": [
            "Fetched 30 products\n",
            "\n",
            "Available Products:\n",
            "Essence Mascara Lash Princess (₹9.99) Stock: 99\n",
            "Eyeshadow Palette with Mirror (₹19.99) Stock: 34\n",
            "Powder Canister (₹14.99) Stock: 89\n",
            "\n",
            "Simulating Shopping Cart:\n",
            "\n",
            "Bought 2 unit(s) of Essence Mascara Lash Princess. Remaining stock: 97\n",
            "Bought 1 unit(s) of Eyeshadow Palette with Mirror. Remaining stock: 33\n",
            "Out of stock! Only 89 unit(s) left for Powder Canister.\n"
          ]
        }
      ]
    }
  ]
}